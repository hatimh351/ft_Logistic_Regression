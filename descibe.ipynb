{
 "cells": [
  {
   "cell_type": "code",
   "execution_count": 127,
   "id": "b6570545-afdb-4092-80c0-20e080c98d9e",
   "metadata": {},
   "outputs": [],
   "source": [
    "import numpy as np\n",
    "from csv import DictReader\n",
    "import math\n",
    "argv = ['./datasets/dataset_train.csv']\n",
    "import pandas as pd"
   ]
  },
  {
   "cell_type": "code",
   "execution_count": 128,
   "id": "7b2e5bb1-2c8d-4138-8df7-d2324b5bd7e6",
   "metadata": {},
   "outputs": [],
   "source": [
    "def write_headers(infos, max_len):\n",
    "    i = 1\n",
    "    ret = ' ' * 10\n",
    "    for Feature in infos:\n",
    "        if infos[Feature] is None:\n",
    "            continue\n",
    "        ret += Feature.ljust(max_len)\n",
    "        i += 1\n",
    "    return ret"
   ]
  },
  {
   "cell_type": "code",
   "execution_count": 129,
   "id": "e6f88dda-82c1-4428-9261-ac8c04b9e036",
   "metadata": {},
   "outputs": [],
   "source": [
    "def write_Feature_info(infos, max_len):\n",
    "\n",
    "    ret = write_headers(infos, max_len)\n",
    "    measurements= ['Count','Mean','Std' ,'Min','25%','50%','75%','Max']\n",
    "    ret += '\\n'\n",
    "    count = 1\n",
    "    for m in measurements:\n",
    "        ret += m.ljust(10)\n",
    "        for Feature in infos:\n",
    "            if infos[Feature] is None:\n",
    "                continue\n",
    "            c_f = infos[Feature]\n",
    "            if m == 'Count':\n",
    "                ret += str(len(c_f)).ljust(max_len)\n",
    "            elif m == 'Mean':\n",
    "                ret += str(c_f.mean()).ljust(max_len)\n",
    "            elif m == 'Std':\n",
    "                ret += str(c_f.std()).ljust(max_len)\n",
    "            elif m == 'Max':\n",
    "                ret += str(max(c_f)).ljust(max_len)\n",
    "            elif m == 'Min':\n",
    "                ret += str(min(c_f)).ljust(max_len)\n",
    "            elif m == '25%':\n",
    "                c_f.sort()\n",
    "                index = round((len(c_f) - 1) * 0.25)\n",
    "                ret += str(c_f[index]).ljust(max_len)\n",
    "            elif m == '50%':\n",
    "                index = round((len(c_f) - 1) * 0.5)\n",
    "                ret += str(c_f[index]).ljust(max_len)\n",
    "            elif m == '75%':\n",
    "                c_f.sort()\n",
    "                index = round((len(c_f) - 1) * 0.75)\n",
    "                ret += str(c_f[index]).ljust(max_len)\n",
    "        ret += '\\n'\n",
    "    return (ret)\n"
   ]
  },
  {
   "cell_type": "code",
   "execution_count": 130,
   "id": "dad18b2b-617d-4107-aa48-c61f933e448d",
   "metadata": {},
   "outputs": [],
   "source": [
    "def describe(csv_path):\n",
    "    with open(csv_path, 'r') as csv_file:\n",
    "        csv_reader = DictReader(csv_file)\n",
    "        max_len = 0\n",
    "        infos = {}\n",
    "        for field in csv_reader.fieldnames:\n",
    "            infos[field] = None\n",
    "        for row in csv_reader:\n",
    "            for x in row:\n",
    "                try:\n",
    "                    xi = float(row[x])\n",
    "                    if np.isnan(xi):\n",
    "                        raise ValueError\n",
    "                    if infos[x] is None:\n",
    "                        infos[x] = np.array([xi])\n",
    "                    else:\n",
    "                        infos[x] = np.append(infos[x], float(row[x]))\n",
    "                    max_len = max(len(row[x]), max_len)\n",
    "                except ValueError:\n",
    "                    pass\n",
    "\n",
    "        # '25%','50%','75%' ,\n",
    "        Features =  {}\n",
    "        i = 1\n",
    "        for info in infos:\n",
    "            if infos[info] is not None:\n",
    "                Features[info] = infos[info]\n",
    "            i += 1\n",
    "        ret = ''\n",
    "\n",
    "        infos = {}\n",
    "        for feature in Features:\n",
    "            if len(infos) == 4:\n",
    "                ret += write_Feature_info(infos, max_len)\n",
    "                ret += '\\n'\n",
    "                infos = {}\n",
    "            else:\n",
    "                infos[feature] = Features[feature]\n",
    "                \n",
    "        with open('output', 'w') as f:\n",
    "            f.write(ret)\n",
    "        return ret\n",
    "        "
   ]
  },
  {
   "cell_type": "code",
   "execution_count": 131,
   "id": "4f4e9e96-b4c5-41d9-b496-1347e06779bb",
   "metadata": {},
   "outputs": [
    {
     "name": "stdout",
     "output_type": "stream",
     "text": [
      "          Index                 Arithmancy            Astronomy             Herbology             \n",
      "Count     1600                  1566                  1568                  1567                  \n",
      "Mean      799.5                 49634.57024265645     39.79713089016475     1.1410195296768046    \n",
      "Std       461.88012514071227    16674.47957652662     520.1323297066418     5.218016226138667     \n",
      "Min       0.0                   -24370.0              -966.7405456412164    -10.295662748653244   \n",
      "25%       400.0                 38510.0               -489.4937773271154    -4.304245472726978    \n",
      "50%       800.0                 49009.0               261.6447314070159     3.4690121044769087    \n",
      "75%       1199.0                60828.0               524.3927519144191     5.41732133207793      \n",
      "Max       1599.0                104956.0              1016.2119403873959    11.612895082210851    \n",
      "\n",
      "          Divination            Muggle Studies        Ancient Runes         History of Magic      \n",
      "Count     1561                  1565                  1565                  1557                  \n",
      "Mean      3.153909673286355     -224.5899148634642    495.74797005915786    2.9630946151165936    \n",
      "Std       4.153969710726384     486.1894330848614     106.25120223070007    4.424353177154479     \n",
      "Min       -8.727                -1086.4968348887983   283.8696087336624     -8.858992991610515    \n",
      "25%       3.0989999999999998    -577.5800963375425    397.5110469338152     2.218653320946669     \n",
      "50%       4.624                 -419.16429373366526   463.91830514671324    4.378175538816984     \n",
      "75%       5.6670000000000025    254.99485732415616    597.4922295175508     5.8252416563826825    \n",
      "Max       10.032                1092.3886105728684    745.3962198761234     11.889712754042707    \n",
      "\n",
      "\n"
     ]
    }
   ],
   "source": [
    "if __name__ == '__main__':\n",
    "    path = argv[0]\n",
    "    print(describe(path))\n",
    "    "
   ]
  },
  {
   "cell_type": "code",
   "execution_count": null,
   "id": "cb09a8b2-41b0-4a63-add5-856104185622",
   "metadata": {},
   "outputs": [],
   "source": []
  },
  {
   "cell_type": "code",
   "execution_count": null,
   "id": "bff83c5c-4375-4add-a11e-764572c0699e",
   "metadata": {},
   "outputs": [],
   "source": []
  }
 ],
 "metadata": {
  "kernelspec": {
   "display_name": "Python 3 (ipykernel)",
   "language": "python",
   "name": "python3"
  },
  "language_info": {
   "codemirror_mode": {
    "name": "ipython",
    "version": 3
   },
   "file_extension": ".py",
   "mimetype": "text/x-python",
   "name": "python",
   "nbconvert_exporter": "python",
   "pygments_lexer": "ipython3",
   "version": "3.9.5"
  }
 },
 "nbformat": 4,
 "nbformat_minor": 5
}
